{
  "nbformat": 4,
  "nbformat_minor": 0,
  "metadata": {
    "colab": {
      "provenance": [],
      "authorship_tag": "ABX9TyNleQ6Rv/Mf2iSiWj6fcViv",
      "include_colab_link": true
    },
    "kernelspec": {
      "name": "python3",
      "display_name": "Python 3"
    },
    "language_info": {
      "name": "python"
    }
  },
  "cells": [
    {
      "cell_type": "markdown",
      "metadata": {
        "id": "view-in-github",
        "colab_type": "text"
      },
      "source": [
        "<a href=\"https://colab.research.google.com/github/s-joshid/Transporter_proj/blob/main/FixedrefTcDoms.ipynb\" target=\"_parent\"><img src=\"https://colab.research.google.com/assets/colab-badge.svg\" alt=\"Open In Colab\"/></a>"
      ]
    },
    {
      "cell_type": "code",
      "execution_count": 6,
      "metadata": {
        "id": "k0Y7xLSUR6fr"
      },
      "outputs": [],
      "source": [
        "import pandas as pd\n",
        "import argparse\n",
        "#argparse makes it easy to write user friendly command-line interfaces\n",
        "import os"
      ]
    },
    {
      "cell_type": "code",
      "source": [
        "from google.colab import drive\n",
        "drive.mount('/content/drive')"
      ],
      "metadata": {
        "colab": {
          "base_uri": "https://localhost:8080/"
        },
        "id": "yH_tqYp1SAcW",
        "outputId": "98398f67-76ca-4985-b826-9e1ef4aeccc1"
      },
      "execution_count": 7,
      "outputs": [
        {
          "output_type": "stream",
          "name": "stdout",
          "text": [
            "Drive already mounted at /content/drive; to attempt to forcibly remount, call drive.mount(\"/content/drive\", force_remount=True).\n"
          ]
        }
      ]
    },
    {
      "cell_type": "code",
      "source": [
        "  df =pd.read_csv(\n",
        "      '/content/drive/MyDrive/NPacSearchResults.tcDoms.domblout.tab',\n",
        "      engine = 'python',\n",
        "      sep ='\\s+',\n",
        "      skiprows = [0,1,2],\n",
        "      skipfooter = 10,\n",
        "      usecols = [0,3,6,7],\n",
        "      names = ['Target_name', 'query_name', 'E-value', 'score']\n",
        "  )"
      ],
      "metadata": {
        "id": "V6oNGw6GSIYW"
      },
      "execution_count": 15,
      "outputs": []
    },
    {
      "cell_type": "code",
      "source": [
        "df"
      ],
      "metadata": {
        "colab": {
          "base_uri": "https://localhost:8080/",
          "height": 424
        },
        "id": "8pHBcMcEy7ow",
        "outputId": "2ca9db49-ba11-4fc8-f907-22a0db565b7f"
      },
      "execution_count": 16,
      "outputs": [
        {
          "output_type": "execute_result",
          "data": {
            "text/plain": [
              "               Target_name                                    query_name  \\\n",
              "0         4.C.1.TD000001.0       D1PA_S30C1_TRINITY_DN1771826_c1_g5_i1_2   \n",
              "1         4.C.1.TD000002.0       D1PA_S30C1_TRINITY_DN1771826_c1_g5_i1_2   \n",
              "2        1.A.46.TD000001.0       D1PA_S30C1_TRINITY_DN1771825_c1_g2_i1_3   \n",
              "3        1.A.11.TD000001.0       D1PA_S30C1_TRINITY_DN1771902_c7_g1_i1_3   \n",
              "4        1.A.11.TD000002.0       D1PA_S30C1_TRINITY_DN1771902_c7_g1_i1_3   \n",
              "...                    ...                                           ...   \n",
              "1389293  3.A.10.TD000001.0       D1PA_S24C1_TRINITY_DN2788333_c7_g2_i1_1   \n",
              "1389294  9.B.87.TD000001.0       D1PA_S24C1_TRINITY_DN2821495_c4_g1_i1_2   \n",
              "1389295  9.B.87.TD000001.0       D1PA_S24C1_TRINITY_DN2821495_c4_g1_i1_2   \n",
              "1389296  9.B.87.TD000001.0       D1PA_S24C1_TRINITY_DN2821495_c4_g1_i1_2   \n",
              "1389297   3.A.5.TD000001.0  G3PA.diel.S4C3.C_TRINITY_DN234266_c0_g1_i1_1   \n",
              "\n",
              "              E-value  score  \n",
              "0        3.100000e-14   46.8  \n",
              "1        2.100000e-10   34.2  \n",
              "2        2.000000e-16   54.6  \n",
              "3        4.600000e-31  102.6  \n",
              "4        7.400000e-30   98.5  \n",
              "...               ...    ...  \n",
              "1389293  3.600000e-61  202.2  \n",
              "1389294  2.000000e-15   51.2  \n",
              "1389295  2.000000e-15   51.2  \n",
              "1389296  2.000000e-15   51.2  \n",
              "1389297  7.300000e-46  151.2  \n",
              "\n",
              "[1389298 rows x 4 columns]"
            ],
            "text/html": [
              "\n",
              "  <div id=\"df-3a8160c3-bbfe-42d9-b427-8b4eae7da48c\" class=\"colab-df-container\">\n",
              "    <div>\n",
              "<style scoped>\n",
              "    .dataframe tbody tr th:only-of-type {\n",
              "        vertical-align: middle;\n",
              "    }\n",
              "\n",
              "    .dataframe tbody tr th {\n",
              "        vertical-align: top;\n",
              "    }\n",
              "\n",
              "    .dataframe thead th {\n",
              "        text-align: right;\n",
              "    }\n",
              "</style>\n",
              "<table border=\"1\" class=\"dataframe\">\n",
              "  <thead>\n",
              "    <tr style=\"text-align: right;\">\n",
              "      <th></th>\n",
              "      <th>Target_name</th>\n",
              "      <th>query_name</th>\n",
              "      <th>E-value</th>\n",
              "      <th>score</th>\n",
              "    </tr>\n",
              "  </thead>\n",
              "  <tbody>\n",
              "    <tr>\n",
              "      <th>0</th>\n",
              "      <td>4.C.1.TD000001.0</td>\n",
              "      <td>D1PA_S30C1_TRINITY_DN1771826_c1_g5_i1_2</td>\n",
              "      <td>3.100000e-14</td>\n",
              "      <td>46.8</td>\n",
              "    </tr>\n",
              "    <tr>\n",
              "      <th>1</th>\n",
              "      <td>4.C.1.TD000002.0</td>\n",
              "      <td>D1PA_S30C1_TRINITY_DN1771826_c1_g5_i1_2</td>\n",
              "      <td>2.100000e-10</td>\n",
              "      <td>34.2</td>\n",
              "    </tr>\n",
              "    <tr>\n",
              "      <th>2</th>\n",
              "      <td>1.A.46.TD000001.0</td>\n",
              "      <td>D1PA_S30C1_TRINITY_DN1771825_c1_g2_i1_3</td>\n",
              "      <td>2.000000e-16</td>\n",
              "      <td>54.6</td>\n",
              "    </tr>\n",
              "    <tr>\n",
              "      <th>3</th>\n",
              "      <td>1.A.11.TD000001.0</td>\n",
              "      <td>D1PA_S30C1_TRINITY_DN1771902_c7_g1_i1_3</td>\n",
              "      <td>4.600000e-31</td>\n",
              "      <td>102.6</td>\n",
              "    </tr>\n",
              "    <tr>\n",
              "      <th>4</th>\n",
              "      <td>1.A.11.TD000002.0</td>\n",
              "      <td>D1PA_S30C1_TRINITY_DN1771902_c7_g1_i1_3</td>\n",
              "      <td>7.400000e-30</td>\n",
              "      <td>98.5</td>\n",
              "    </tr>\n",
              "    <tr>\n",
              "      <th>...</th>\n",
              "      <td>...</td>\n",
              "      <td>...</td>\n",
              "      <td>...</td>\n",
              "      <td>...</td>\n",
              "    </tr>\n",
              "    <tr>\n",
              "      <th>1389293</th>\n",
              "      <td>3.A.10.TD000001.0</td>\n",
              "      <td>D1PA_S24C1_TRINITY_DN2788333_c7_g2_i1_1</td>\n",
              "      <td>3.600000e-61</td>\n",
              "      <td>202.2</td>\n",
              "    </tr>\n",
              "    <tr>\n",
              "      <th>1389294</th>\n",
              "      <td>9.B.87.TD000001.0</td>\n",
              "      <td>D1PA_S24C1_TRINITY_DN2821495_c4_g1_i1_2</td>\n",
              "      <td>2.000000e-15</td>\n",
              "      <td>51.2</td>\n",
              "    </tr>\n",
              "    <tr>\n",
              "      <th>1389295</th>\n",
              "      <td>9.B.87.TD000001.0</td>\n",
              "      <td>D1PA_S24C1_TRINITY_DN2821495_c4_g1_i1_2</td>\n",
              "      <td>2.000000e-15</td>\n",
              "      <td>51.2</td>\n",
              "    </tr>\n",
              "    <tr>\n",
              "      <th>1389296</th>\n",
              "      <td>9.B.87.TD000001.0</td>\n",
              "      <td>D1PA_S24C1_TRINITY_DN2821495_c4_g1_i1_2</td>\n",
              "      <td>2.000000e-15</td>\n",
              "      <td>51.2</td>\n",
              "    </tr>\n",
              "    <tr>\n",
              "      <th>1389297</th>\n",
              "      <td>3.A.5.TD000001.0</td>\n",
              "      <td>G3PA.diel.S4C3.C_TRINITY_DN234266_c0_g1_i1_1</td>\n",
              "      <td>7.300000e-46</td>\n",
              "      <td>151.2</td>\n",
              "    </tr>\n",
              "  </tbody>\n",
              "</table>\n",
              "<p>1389298 rows × 4 columns</p>\n",
              "</div>\n",
              "    <div class=\"colab-df-buttons\">\n",
              "\n",
              "  <div class=\"colab-df-container\">\n",
              "    <button class=\"colab-df-convert\" onclick=\"convertToInteractive('df-3a8160c3-bbfe-42d9-b427-8b4eae7da48c')\"\n",
              "            title=\"Convert this dataframe to an interactive table.\"\n",
              "            style=\"display:none;\">\n",
              "\n",
              "  <svg xmlns=\"http://www.w3.org/2000/svg\" height=\"24px\" viewBox=\"0 -960 960 960\">\n",
              "    <path d=\"M120-120v-720h720v720H120Zm60-500h600v-160H180v160Zm220 220h160v-160H400v160Zm0 220h160v-160H400v160ZM180-400h160v-160H180v160Zm440 0h160v-160H620v160ZM180-180h160v-160H180v160Zm440 0h160v-160H620v160Z\"/>\n",
              "  </svg>\n",
              "    </button>\n",
              "\n",
              "  <style>\n",
              "    .colab-df-container {\n",
              "      display:flex;\n",
              "      gap: 12px;\n",
              "    }\n",
              "\n",
              "    .colab-df-convert {\n",
              "      background-color: #E8F0FE;\n",
              "      border: none;\n",
              "      border-radius: 50%;\n",
              "      cursor: pointer;\n",
              "      display: none;\n",
              "      fill: #1967D2;\n",
              "      height: 32px;\n",
              "      padding: 0 0 0 0;\n",
              "      width: 32px;\n",
              "    }\n",
              "\n",
              "    .colab-df-convert:hover {\n",
              "      background-color: #E2EBFA;\n",
              "      box-shadow: 0px 1px 2px rgba(60, 64, 67, 0.3), 0px 1px 3px 1px rgba(60, 64, 67, 0.15);\n",
              "      fill: #174EA6;\n",
              "    }\n",
              "\n",
              "    .colab-df-buttons div {\n",
              "      margin-bottom: 4px;\n",
              "    }\n",
              "\n",
              "    [theme=dark] .colab-df-convert {\n",
              "      background-color: #3B4455;\n",
              "      fill: #D2E3FC;\n",
              "    }\n",
              "\n",
              "    [theme=dark] .colab-df-convert:hover {\n",
              "      background-color: #434B5C;\n",
              "      box-shadow: 0px 1px 3px 1px rgba(0, 0, 0, 0.15);\n",
              "      filter: drop-shadow(0px 1px 2px rgba(0, 0, 0, 0.3));\n",
              "      fill: #FFFFFF;\n",
              "    }\n",
              "  </style>\n",
              "\n",
              "    <script>\n",
              "      const buttonEl =\n",
              "        document.querySelector('#df-3a8160c3-bbfe-42d9-b427-8b4eae7da48c button.colab-df-convert');\n",
              "      buttonEl.style.display =\n",
              "        google.colab.kernel.accessAllowed ? 'block' : 'none';\n",
              "\n",
              "      async function convertToInteractive(key) {\n",
              "        const element = document.querySelector('#df-3a8160c3-bbfe-42d9-b427-8b4eae7da48c');\n",
              "        const dataTable =\n",
              "          await google.colab.kernel.invokeFunction('convertToInteractive',\n",
              "                                                    [key], {});\n",
              "        if (!dataTable) return;\n",
              "\n",
              "        const docLinkHtml = 'Like what you see? Visit the ' +\n",
              "          '<a target=\"_blank\" href=https://colab.research.google.com/notebooks/data_table.ipynb>data table notebook</a>'\n",
              "          + ' to learn more about interactive tables.';\n",
              "        element.innerHTML = '';\n",
              "        dataTable['output_type'] = 'display_data';\n",
              "        await google.colab.output.renderOutput(dataTable, element);\n",
              "        const docLink = document.createElement('div');\n",
              "        docLink.innerHTML = docLinkHtml;\n",
              "        element.appendChild(docLink);\n",
              "      }\n",
              "    </script>\n",
              "  </div>\n",
              "\n",
              "\n",
              "<div id=\"df-2c0873df-89f5-42bd-9f2b-eb7190e07e87\">\n",
              "  <button class=\"colab-df-quickchart\" onclick=\"quickchart('df-2c0873df-89f5-42bd-9f2b-eb7190e07e87')\"\n",
              "            title=\"Suggest charts.\"\n",
              "            style=\"display:none;\">\n",
              "\n",
              "<svg xmlns=\"http://www.w3.org/2000/svg\" height=\"24px\"viewBox=\"0 0 24 24\"\n",
              "     width=\"24px\">\n",
              "    <g>\n",
              "        <path d=\"M19 3H5c-1.1 0-2 .9-2 2v14c0 1.1.9 2 2 2h14c1.1 0 2-.9 2-2V5c0-1.1-.9-2-2-2zM9 17H7v-7h2v7zm4 0h-2V7h2v10zm4 0h-2v-4h2v4z\"/>\n",
              "    </g>\n",
              "</svg>\n",
              "  </button>\n",
              "\n",
              "<style>\n",
              "  .colab-df-quickchart {\n",
              "    background-color: #E8F0FE;\n",
              "    border: none;\n",
              "    border-radius: 50%;\n",
              "    cursor: pointer;\n",
              "    display: none;\n",
              "    fill: #1967D2;\n",
              "    height: 32px;\n",
              "    padding: 0 0 0 0;\n",
              "    width: 32px;\n",
              "  }\n",
              "\n",
              "  .colab-df-quickchart:hover {\n",
              "    background-color: #E2EBFA;\n",
              "    box-shadow: 0px 1px 2px rgba(60, 64, 67, 0.3), 0px 1px 3px 1px rgba(60, 64, 67, 0.15);\n",
              "    fill: #174EA6;\n",
              "  }\n",
              "\n",
              "  [theme=dark] .colab-df-quickchart {\n",
              "    background-color: #3B4455;\n",
              "    fill: #D2E3FC;\n",
              "  }\n",
              "\n",
              "  [theme=dark] .colab-df-quickchart:hover {\n",
              "    background-color: #434B5C;\n",
              "    box-shadow: 0px 1px 3px 1px rgba(0, 0, 0, 0.15);\n",
              "    filter: drop-shadow(0px 1px 2px rgba(0, 0, 0, 0.3));\n",
              "    fill: #FFFFFF;\n",
              "  }\n",
              "</style>\n",
              "\n",
              "  <script>\n",
              "    async function quickchart(key) {\n",
              "      const charts = await google.colab.kernel.invokeFunction(\n",
              "          'suggestCharts', [key], {});\n",
              "    }\n",
              "    (() => {\n",
              "      let quickchartButtonEl =\n",
              "        document.querySelector('#df-2c0873df-89f5-42bd-9f2b-eb7190e07e87 button');\n",
              "      quickchartButtonEl.style.display =\n",
              "        google.colab.kernel.accessAllowed ? 'block' : 'none';\n",
              "    })();\n",
              "  </script>\n",
              "</div>\n",
              "    </div>\n",
              "  </div>\n"
            ]
          },
          "metadata": {},
          "execution_count": 16
        }
      ]
    },
    {
      "cell_type": "code",
      "source": [
        "df['score'] = df['score'].astype(float)"
      ],
      "metadata": {
        "id": "oRuFBAtwStWs"
      },
      "execution_count": 17,
      "outputs": []
    },
    {
      "cell_type": "code",
      "source": [
        "best_annot_df = df.iloc[df.groupby(['query_name']).score.idxmax()]\n",
        "best_annot_df.reset_index(drop = True, inplace = True)\n"
      ],
      "metadata": {
        "id": "g0yrG_9dTE3b"
      },
      "execution_count": 18,
      "outputs": []
    },
    {
      "cell_type": "code",
      "source": [
        "check_df = best_annot_df.duplicated(subset = 'query_name')\n",
        "print('TRUE' in check_df.unique())\n",
        "#checked best_annot_df contains no duplicates"
      ],
      "metadata": {
        "id": "vY_lCeAPZZhY",
        "colab": {
          "base_uri": "https://localhost:8080/"
        },
        "outputId": "189cd367-5813-4999-96fe-c4fda26c675f"
      },
      "execution_count": 19,
      "outputs": [
        {
          "output_type": "stream",
          "name": "stdout",
          "text": [
            "False\n"
          ]
        },
        {
          "output_type": "stream",
          "name": "stderr",
          "text": [
            "<ipython-input-19-936649de8795>:2: FutureWarning: elementwise comparison failed; returning scalar instead, but in the future will perform elementwise comparison\n",
            "  print('TRUE' in check_df.unique())\n"
          ]
        }
      ]
    },
    {
      "cell_type": "code",
      "source": [
        "best_annot_df.to_csv('/content/drive/MyDrive/best_tcdoms_test.csv', index = False)\n"
      ],
      "metadata": {
        "id": "mJYWgnRaWcgs"
      },
      "execution_count": 20,
      "outputs": []
    }
  ]
}