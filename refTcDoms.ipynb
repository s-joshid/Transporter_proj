{
  "nbformat": 4,
  "nbformat_minor": 0,
  "metadata": {
    "colab": {
      "provenance": [],
      "authorship_tag": "ABX9TyMYkPWkWwhRxLsSgu+6TVMu",
      "include_colab_link": true
    },
    "kernelspec": {
      "name": "python3",
      "display_name": "Python 3"
    },
    "language_info": {
      "name": "python"
    }
  },
  "cells": [
    {
      "cell_type": "markdown",
      "metadata": {
        "id": "view-in-github",
        "colab_type": "text"
      },
      "source": [
        "<a href=\"https://colab.research.google.com/github/s-joshid/Transporter_proj/blob/main/refTcDoms.ipynb\" target=\"_parent\"><img src=\"https://colab.research.google.com/assets/colab-badge.svg\" alt=\"Open In Colab\"/></a>"
      ]
    },
    {
      "cell_type": "code",
      "execution_count": null,
      "metadata": {
        "id": "k0Y7xLSUR6fr"
      },
      "outputs": [],
      "source": [
        "import pandas as pd\n",
        "import argparse\n",
        "#argparse makes it easy to write user friendly command-line interfaces\n",
        "import os"
      ]
    },
    {
      "cell_type": "code",
      "source": [
        "from google.colab import drive\n",
        "drive.mount('/content/drive')"
      ],
      "metadata": {
        "colab": {
          "base_uri": "https://localhost:8080/"
        },
        "id": "yH_tqYp1SAcW",
        "outputId": "2d81af01-e453-40c5-c459-038b4c17f0aa"
      },
      "execution_count": null,
      "outputs": [
        {
          "output_type": "stream",
          "name": "stdout",
          "text": [
            "Mounted at /content/drive\n"
          ]
        }
      ]
    },
    {
      "cell_type": "code",
      "source": [
        "  df =pd.read_csv(\n",
        "      '/content/drive/MyDrive/NPacSearchResults.tcDoms.domblout.tab',\n",
        "      engine = 'python',\n",
        "      sep ='\\s+',\n",
        "      skiprows = [0,1,2],\n",
        "      skipfooter = 10,\n",
        "      usecols = [0,3,5,6],\n",
        "      names = ['Target_name', 'query_name', 'E-value', 'score']\n",
        "  )"
      ],
      "metadata": {
        "id": "V6oNGw6GSIYW"
      },
      "execution_count": null,
      "outputs": []
    },
    {
      "cell_type": "code",
      "source": [
        "df['score'] = df['score'].astype(float)"
      ],
      "metadata": {
        "id": "oRuFBAtwStWs"
      },
      "execution_count": null,
      "outputs": []
    },
    {
      "cell_type": "code",
      "source": [
        "best_annot_df = df.iloc[df.groupby(['query_name']).score.idxmax()]\n",
        "best_annot_df.reset_index(drop = True, inplace = True)\n"
      ],
      "metadata": {
        "id": "g0yrG_9dTE3b"
      },
      "execution_count": null,
      "outputs": []
    },
    {
      "cell_type": "code",
      "source": [
        "check_df = best_annot_df.duplicated(subset = 'query_name')\n",
        "print('TRUE' in check_df.unique())\n",
        "#checked best_annot_df contains no duplicates"
      ],
      "metadata": {
        "id": "vY_lCeAPZZhY",
        "colab": {
          "base_uri": "https://localhost:8080/"
        },
        "outputId": "5a9c1401-5b86-427f-9d70-304e3cb37df1"
      },
      "execution_count": 16,
      "outputs": [
        {
          "output_type": "stream",
          "name": "stdout",
          "text": [
            "False\n"
          ]
        },
        {
          "output_type": "stream",
          "name": "stderr",
          "text": [
            "<ipython-input-16-53bdceeec10d>:2: FutureWarning: elementwise comparison failed; returning scalar instead, but in the future will perform elementwise comparison\n",
            "  print('TRUE' in check_df.unique())\n"
          ]
        }
      ]
    },
    {
      "cell_type": "code",
      "source": [
        "best_annot_df.to_csv('/content/drive/MyDrive/best_tcdoms_test.csv', index = False)\n"
      ],
      "metadata": {
        "id": "mJYWgnRaWcgs"
      },
      "execution_count": null,
      "outputs": []
    }
  ]
}