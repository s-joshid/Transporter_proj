{
  "nbformat": 4,
  "nbformat_minor": 0,
  "metadata": {
    "colab": {
      "provenance": [],
      "authorship_tag": "ABX9TyO9mopPvi4vMK+EXtM6b0P/",
      "include_colab_link": true
    },
    "kernelspec": {
      "name": "python3",
      "display_name": "Python 3"
    },
    "language_info": {
      "name": "python"
    }
  },
  "cells": [
    {
      "cell_type": "markdown",
      "metadata": {
        "id": "view-in-github",
        "colab_type": "text"
      },
      "source": [
        "<a href=\"https://colab.research.google.com/github/s-joshid/Transporter_proj/blob/main/DownloadURLs.ipynb\" target=\"_parent\"><img src=\"https://colab.research.google.com/assets/colab-badge.svg\" alt=\"Open In Colab\"/></a>"
      ]
    },
    {
      "cell_type": "code",
      "execution_count": null,
      "metadata": {
        "id": "r-cHbKg5aawY"
      },
      "outputs": [],
      "source": [
        "import pandas as pd\n",
        "import numpy as np\n",
        "import matplotlib.pyplot as plt\n",
        "import seaborn as sns"
      ]
    },
    {
      "cell_type": "code",
      "source": [
        "from google.colab import drive\n",
        "drive.mount('/content/drive')"
      ],
      "metadata": {
        "colab": {
          "base_uri": "https://localhost:8080/"
        },
        "id": "nfg88ynca72C",
        "outputId": "b9f99ad9-0a59-4d76-b738-65b2edfadc59"
      },
      "execution_count": null,
      "outputs": [
        {
          "output_type": "stream",
          "name": "stdout",
          "text": [
            "Mounted at /content/drive\n"
          ]
        }
      ]
    },
    {
      "cell_type": "code",
      "source": [
        "to_download_df = pd.read_csv(\n",
        "    '/content/drive/MyDrive/TransportPFAM.csv',\n",
        "    engine = 'python',\n",
        "    skiprows = [0,1],\n",
        "    usecols = [0],\n",
        "    names = ['Pfam_ID']\n",
        ")"
      ],
      "metadata": {
        "id": "UEd06X7PbSHX"
      },
      "execution_count": null,
      "outputs": []
    },
    {
      "cell_type": "code",
      "source": [
        "to_download_list = to_download_df.Pfam_ID.tolist()\n",
        "to_download_list\n"
      ],
      "metadata": {
        "colab": {
          "base_uri": "https://localhost:8080/"
        },
        "id": "fODgfgBDcSYp",
        "outputId": "81bd9e95-3307-4bad-a2fc-86b5897e3550"
      },
      "execution_count": null,
      "outputs": [
        {
          "output_type": "execute_result",
          "data": {
            "text/plain": [
              "['PF00005',\n",
              " 'PF00083',\n",
              " 'PF00361',\n",
              " 'PF00520',\n",
              " 'PF00528',\n",
              " 'PF00664',\n",
              " 'PF00689',\n",
              " 'PF00690',\n",
              " 'PF00892',\n",
              " 'PF00909',\n",
              " 'PF00950',\n",
              " 'PF00955',\n",
              " 'PF01032',\n",
              " 'PF01061',\n",
              " 'PF01226',\n",
              " 'PF01366',\n",
              " 'PF01384',\n",
              " 'PF01490',\n",
              " 'PF01544',\n",
              " 'PF01594',\n",
              " 'PF01733',\n",
              " 'PF01769',\n",
              " 'PF01773',\n",
              " 'PF01970',\n",
              " 'PF02028',\n",
              " 'PF02136',\n",
              " 'PF02293',\n",
              " 'PF02361',\n",
              " 'PF02374',\n",
              " 'PF02386',\n",
              " 'PF02411',\n",
              " 'PF02417',\n",
              " 'PF02421',\n",
              " 'PF02472',\n",
              " 'PF02535',\n",
              " 'PF02553',\n",
              " 'PF02592',\n",
              " 'PF02608',\n",
              " 'PF02653',\n",
              " 'PF02667',\n",
              " 'PF02669',\n",
              " 'PF02690',\n",
              " 'PF02705',\n",
              " 'PF03083',\n",
              " 'PF03135',\n",
              " 'PF03137',\n",
              " 'PF03151',\n",
              " 'PF03169',\n",
              " 'PF03219',\n",
              " 'PF03253',\n",
              " 'PF03349',\n",
              " 'PF03364',\n",
              " 'PF03390',\n",
              " 'PF03401',\n",
              " 'PF03458',\n",
              " 'PF03471',\n",
              " 'PF03491',\n",
              " 'PF03547',\n",
              " 'PF03594',\n",
              " 'PF03596',\n",
              " 'PF03600',\n",
              " 'PF03605',\n",
              " 'PF03619',\n",
              " 'PF03666',\n",
              " 'PF03783',\n",
              " 'PF03797',\n",
              " 'PF03806',\n",
              " 'PF03814',\n",
              " 'PF03817',\n",
              " 'PF03821',\n",
              " 'PF03824',\n",
              " 'PF03842',\n",
              " 'PF03886',\n",
              " 'PF03968',\n",
              " 'PF03977',\n",
              " 'PF04051',\n",
              " 'PF04069',\n",
              " 'PF04142',\n",
              " 'PF04143',\n",
              " 'PF04145',\n",
              " 'PF04212',\n",
              " 'PF04290',\n",
              " 'PF04392',\n",
              " 'PF04453',\n",
              " 'PF04515',\n",
              " 'PF04756',\n",
              " 'PF04973',\n",
              " 'PF05008',\n",
              " 'PF05025',\n",
              " 'PF05031',\n",
              " 'PF05108',\n",
              " 'PF05232',\n",
              " 'PF05437',\n",
              " 'PF05525',\n",
              " 'PF05653',\n",
              " 'PF05662',\n",
              " 'PF05742',\n",
              " 'PF05975',\n",
              " 'PF05982',\n",
              " 'PF06177',\n",
              " 'PF06182',\n",
              " 'PF06276',\n",
              " 'PF06422',\n",
              " 'PF06472',\n",
              " 'PF06512',\n",
              " 'PF06541',\n",
              " 'PF06779',\n",
              " 'PF06800',\n",
              " 'PF06808',\n",
              " 'PF07155',\n",
              " 'PF07331',\n",
              " 'PF07662',\n",
              " 'PF07664',\n",
              " 'PF07672',\n",
              " 'PF07857',\n",
              " 'PF07970',\n",
              " 'PF08318',\n",
              " 'PF08352',\n",
              " 'PF08370',\n",
              " 'PF08412',\n",
              " 'PF08449',\n",
              " 'PF08626',\n",
              " 'PF08627',\n",
              " 'PF08946',\n",
              " 'PF09489',\n",
              " 'PF09490',\n",
              " 'PF09512',\n",
              " 'PF09515',\n",
              " 'PF09527',\n",
              " 'PF09604',\n",
              " 'PF09794',\n",
              " 'PF09819',\n",
              " 'PF09822',\n",
              " 'PF09930',\n",
              " 'PF10032',\n",
              " 'PF10036',\n",
              " 'PF10070',\n",
              " 'PF10104',\n",
              " 'PF10188',\n",
              " 'PF10270',\n",
              " 'PF10304',\n",
              " 'PF10337',\n",
              " 'PF10363',\n",
              " 'PF10392',\n",
              " 'PF10498',\n",
              " 'PF10568',\n",
              " 'PF10599',\n",
              " 'PF10604',\n",
              " 'PF10634',\n",
              " 'PF10988',\n",
              " 'PF11124',\n",
              " 'PF11382',\n",
              " 'PF11431',\n",
              " 'PF11549',\n",
              " 'PF11557',\n",
              " 'PF11704',\n",
              " 'PF11739',\n",
              " 'PF11744',\n",
              " 'PF11776',\n",
              " 'PF11924',\n",
              " 'PF11988',\n",
              " 'PF11989',\n",
              " 'PF12019',\n",
              " 'PF12156',\n",
              " 'PF12317',\n",
              " 'PF12399',\n",
              " 'PF12409',\n",
              " 'PF12424',\n",
              " 'PF12501',\n",
              " 'PF12538',\n",
              " 'PF12558',\n",
              " 'PF12621',\n",
              " 'PF12679',\n",
              " 'PF12698',\n",
              " 'PF12730',\n",
              " 'PF12783',\n",
              " 'PF12793',\n",
              " 'PF12822',\n",
              " 'PF12848',\n",
              " 'PF12911',\n",
              " 'PF12951',\n",
              " 'PF12974',\n",
              " 'PF13000',\n",
              " 'PF13246',\n",
              " 'PF13346',\n",
              " 'PF13347',\n",
              " 'PF13536',\n",
              " 'PF13593',\n",
              " 'PF13722',\n",
              " 'PF13748',\n",
              " 'PF13856',\n",
              " 'PF13967',\n",
              " 'PF14510',\n",
              " 'PF14703',\n",
              " 'PF14785',\n",
              " 'PF14931',\n",
              " 'PF15048',\n",
              " 'PF15305',\n",
              " 'PF15401',\n",
              " 'PF15403',\n",
              " 'PF15894',\n",
              " 'PF16168',\n",
              " 'PF16185',\n",
              " 'PF16296',\n",
              " 'PF16326',\n",
              " 'PF16811',\n",
              " 'PF16913',\n",
              " 'PF16916',\n",
              " 'PF16929',\n",
              " 'PF16940',\n",
              " 'PF16954',\n",
              " 'PF16955',\n",
              " 'PF16957',\n",
              " 'PF16959',\n",
              " 'PF16960',\n",
              " 'PF16974',\n",
              " 'PF16980',\n",
              " 'PF16983',\n",
              " 'PF17099',\n",
              " 'PF17331',\n",
              " 'PF17357',\n",
              " 'PF17722',\n",
              " 'PF17847',\n",
              " 'PF18292',\n",
              " 'PF18383',\n",
              " 'PF18669',\n",
              " 'PF18770',\n",
              " 'PF18791',\n",
              " 'PF19055',\n",
              " 'PF19300']"
            ]
          },
          "metadata": {},
          "execution_count": 4
        }
      ]
    },
    {
      "cell_type": "code",
      "source": [
        "Urls = []\n",
        "for s in to_download_list:\n",
        "  url = \"https://www.ebi.ac.uk/interpro/wwwapi//entry/pfam/\" + s + \"?annotation=hmm\"\n",
        "  Urls.append(url)\n"
      ],
      "metadata": {
        "id": "tWmQGsKyj841"
      },
      "execution_count": null,
      "outputs": []
    },
    {
      "cell_type": "code",
      "source": [
        "urls_df = pd.DataFrame(Urls)\n",
        "urls_df.to_csv( '/content/drive/MyDrive/AddtionalHMMsURLS.csv' , index = False)"
      ],
      "metadata": {
        "id": "KjW_G0_3jM-i"
      },
      "execution_count": null,
      "outputs": []
    },
    {
      "cell_type": "markdown",
      "source": [
        "want to have a list of pfam ids\n",
        "then iterate through that list and modify the URL string and add that into anoother list that just contains URLs"
      ],
      "metadata": {
        "id": "2ii1lg9HbZrW"
      }
    }
  ]
}