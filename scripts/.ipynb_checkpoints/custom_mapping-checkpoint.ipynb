{
 "cells": [
  {
   "cell_type": "code",
   "execution_count": 4,
   "metadata": {
    "colab": {
     "base_uri": "https://localhost:8080/"
    },
    "executionInfo": {
     "elapsed": 1076,
     "status": "ok",
     "timestamp": 1699990382519,
     "user": {
      "displayName": "Dhruvi Joshi",
      "userId": "04041335592060474529"
     },
     "user_tz": 480
    },
    "id": "ra21u1GFLZcr",
    "outputId": "c3cef451-8295-4ecc-a0a9-39182c3561e4"
   },
   "outputs": [],
   "source": [
    "import pandas as pd\n",
    "import numpy as np\n",
    "import matplotlib.pyplot as plt\n",
    "import seaborn as sns\n"
   ]
  },
  {
   "cell_type": "code",
   "execution_count": 5,
   "metadata": {
    "colab": {
     "base_uri": "https://localhost:8080/"
    },
    "executionInfo": {
     "elapsed": 8,
     "status": "ok",
     "timestamp": 1699990382520,
     "user": {
      "displayName": "Dhruvi Joshi",
      "userId": "04041335592060474529"
     },
     "user_tz": 480
    },
    "id": "CE7wkECwKsn2",
    "outputId": "8cedc6d8-a73c-4389-9424-c6c2232a168e"
   },
   "outputs": [
    {
     "data": {
      "text/html": [
       "<div>\n",
       "<style scoped>\n",
       "    .dataframe tbody tr th:only-of-type {\n",
       "        vertical-align: middle;\n",
       "    }\n",
       "\n",
       "    .dataframe tbody tr th {\n",
       "        vertical-align: top;\n",
       "    }\n",
       "\n",
       "    .dataframe thead th {\n",
       "        text-align: right;\n",
       "    }\n",
       "</style>\n",
       "<table border=\"1\" class=\"dataframe\">\n",
       "  <thead>\n",
       "    <tr style=\"text-align: right;\">\n",
       "      <th></th>\n",
       "      <th>pfam_ID</th>\n",
       "      <th>TC</th>\n",
       "    </tr>\n",
       "  </thead>\n",
       "  <tbody>\n",
       "    <tr>\n",
       "      <th>0</th>\n",
       "      <td>PF07885</td>\n",
       "      <td>1.A.1.1.1</td>\n",
       "    </tr>\n",
       "    <tr>\n",
       "      <th>1</th>\n",
       "      <td>PF07885</td>\n",
       "      <td>1.A.1.29.1</td>\n",
       "    </tr>\n",
       "    <tr>\n",
       "      <th>2</th>\n",
       "      <td>PF00520</td>\n",
       "      <td>1.A.1.2.2</td>\n",
       "    </tr>\n",
       "    <tr>\n",
       "      <th>3</th>\n",
       "      <td>PF02214</td>\n",
       "      <td>1.A.1.2.2</td>\n",
       "    </tr>\n",
       "    <tr>\n",
       "      <th>4</th>\n",
       "      <td>PF03493</td>\n",
       "      <td>1.A.1.3.1</td>\n",
       "    </tr>\n",
       "    <tr>\n",
       "      <th>...</th>\n",
       "      <td>...</td>\n",
       "      <td>...</td>\n",
       "    </tr>\n",
       "    <tr>\n",
       "      <th>8862</th>\n",
       "      <td>PF02462</td>\n",
       "      <td>1.B.6.2.7</td>\n",
       "    </tr>\n",
       "    <tr>\n",
       "      <th>8863</th>\n",
       "      <td>PF02530</td>\n",
       "      <td>1.B.70.1.6</td>\n",
       "    </tr>\n",
       "    <tr>\n",
       "      <th>8864</th>\n",
       "      <td>PF02537</td>\n",
       "      <td>1.A.43.1.2</td>\n",
       "    </tr>\n",
       "    <tr>\n",
       "      <th>8865</th>\n",
       "      <td>TesT</td>\n",
       "      <td>3.A.1.1.1</td>\n",
       "    </tr>\n",
       "    <tr>\n",
       "      <th>8866</th>\n",
       "      <td>TesT</td>\n",
       "      <td>3.A.1.1.1</td>\n",
       "    </tr>\n",
       "  </tbody>\n",
       "</table>\n",
       "<p>8867 rows × 2 columns</p>\n",
       "</div>"
      ],
      "text/plain": [
       "      pfam_ID          TC\n",
       "0     PF07885   1.A.1.1.1\n",
       "1     PF07885  1.A.1.29.1\n",
       "2     PF00520   1.A.1.2.2\n",
       "3     PF02214   1.A.1.2.2\n",
       "4     PF03493   1.A.1.3.1\n",
       "...       ...         ...\n",
       "8862  PF02462   1.B.6.2.7\n",
       "8863  PF02530  1.B.70.1.6\n",
       "8864  PF02537  1.A.43.1.2\n",
       "8865     TesT   3.A.1.1.1\n",
       "8866     TesT   3.A.1.1.1\n",
       "\n",
       "[8867 rows x 2 columns]"
      ]
     },
     "execution_count": 5,
     "metadata": {},
     "output_type": "execute_result"
    }
   ],
   "source": [
    "#read in mapping file\n",
    "#url pfam to TC mapping file: https://tcdb.org/cgi-bin/projectv/public/pfam.py\n",
    "\n",
    "tc2p_df = pd.read_csv('../data/pfam2TC.csv',\n",
    "             engine = 'python',\n",
    "             skiprows = [0],\n",
    "             usecols= [0,1],\n",
    "             names = ['pfam_ID', 'TC'])\n",
    "tc2p_df"
   ]
  },
  {
   "cell_type": "code",
   "execution_count": null,
   "metadata": {
    "colab": {
     "base_uri": "https://localhost:8080/"
    },
    "executionInfo": {
     "elapsed": 6,
     "status": "ok",
     "timestamp": 1699990382520,
     "user": {
      "displayName": "Dhruvi Joshi",
      "userId": "04041335592060474529"
     },
     "user_tz": 480
    },
    "id": "7XMu13stTZnn",
    "outputId": "905489dd-8187-4510-bd8c-785e858f18c5"
   },
   "outputs": [],
   "source": []
  },
  {
   "cell_type": "code",
   "execution_count": 6,
   "metadata": {
    "colab": {
     "base_uri": "https://localhost:8080/",
     "height": 423
    },
    "executionInfo": {
     "elapsed": 237,
     "status": "ok",
     "timestamp": 1699990382752,
     "user": {
      "displayName": "Dhruvi Joshi",
      "userId": "04041335592060474529"
     },
     "user_tz": 480
    },
    "id": "ByjBOPzDKhPy",
    "outputId": "82404d39-888d-4e13-affd-ef968a369df8"
   },
   "outputs": [
    {
     "data": {
      "text/html": [
       "<div>\n",
       "<style scoped>\n",
       "    .dataframe tbody tr th:only-of-type {\n",
       "        vertical-align: middle;\n",
       "    }\n",
       "\n",
       "    .dataframe tbody tr th {\n",
       "        vertical-align: top;\n",
       "    }\n",
       "\n",
       "    .dataframe thead th {\n",
       "        text-align: right;\n",
       "    }\n",
       "</style>\n",
       "<table border=\"1\" class=\"dataframe\">\n",
       "  <thead>\n",
       "    <tr style=\"text-align: right;\">\n",
       "      <th></th>\n",
       "      <th>hmm_id</th>\n",
       "    </tr>\n",
       "  </thead>\n",
       "  <tbody>\n",
       "    <tr>\n",
       "      <th>0</th>\n",
       "      <td>1.A.1.TD000002.0</td>\n",
       "    </tr>\n",
       "    <tr>\n",
       "      <th>1</th>\n",
       "      <td>1.A.2.TD000001.0</td>\n",
       "    </tr>\n",
       "    <tr>\n",
       "      <th>2</th>\n",
       "      <td>1.A.2.TD000002.0</td>\n",
       "    </tr>\n",
       "    <tr>\n",
       "      <th>3</th>\n",
       "      <td>1.A.3.TD000001.0</td>\n",
       "    </tr>\n",
       "    <tr>\n",
       "      <th>4</th>\n",
       "      <td>1.A.4.TD000001.0</td>\n",
       "    </tr>\n",
       "    <tr>\n",
       "      <th>...</th>\n",
       "      <td>...</td>\n",
       "    </tr>\n",
       "    <tr>\n",
       "      <th>356</th>\n",
       "      <td>9.B.330.TD000001.0</td>\n",
       "    </tr>\n",
       "    <tr>\n",
       "      <th>357</th>\n",
       "      <td>9.B.353.TD000001.0</td>\n",
       "    </tr>\n",
       "    <tr>\n",
       "      <th>358</th>\n",
       "      <td>9.B.358.TD000001.0</td>\n",
       "    </tr>\n",
       "    <tr>\n",
       "      <th>359</th>\n",
       "      <td>9.B.358.TD000002.0</td>\n",
       "    </tr>\n",
       "    <tr>\n",
       "      <th>360</th>\n",
       "      <td>9.B.371.TD000001.0</td>\n",
       "    </tr>\n",
       "  </tbody>\n",
       "</table>\n",
       "<p>361 rows × 1 columns</p>\n",
       "</div>"
      ],
      "text/plain": [
       "                 hmm_id\n",
       "0      1.A.1.TD000002.0\n",
       "1      1.A.2.TD000001.0\n",
       "2      1.A.2.TD000002.0\n",
       "3      1.A.3.TD000001.0\n",
       "4      1.A.4.TD000001.0\n",
       "..                  ...\n",
       "356  9.B.330.TD000001.0\n",
       "357  9.B.353.TD000001.0\n",
       "358  9.B.358.TD000001.0\n",
       "359  9.B.358.TD000002.0\n",
       "360  9.B.371.TD000001.0\n",
       "\n",
       "[361 rows x 1 columns]"
      ]
     },
     "execution_count": 6,
     "metadata": {},
     "output_type": "execute_result"
    }
   ],
   "source": [
    "#read in tcDoms hmm name file\n",
    "#obtained from downloading tcdoms hmm file & going into tcdoms global folder\n",
    "#URL: https://tcdb.org/public/tcDoms.tar.gz\n",
    "tchmms_df = pd.read_csv('../data/tcDoms/tcDomsGlobal/hmmsName.txt',\n",
    "                    engine = 'python',\n",
    "                    sep = '\\s+',\n",
    "                    skiprows = [0],\n",
    "                    usecols = [1],\n",
    "                    names = ['hmm_id']\n",
    ")\n",
    "tchmms_df"
   ]
  },
  {
   "cell_type": "code",
   "execution_count": 7,
   "metadata": {
    "executionInfo": {
     "elapsed": 1056,
     "status": "ok",
     "timestamp": 1699990383806,
     "user": {
      "displayName": "Dhruvi Joshi",
      "userId": "04041335592060474529"
     },
     "user_tz": 480
    },
    "id": "hpex6FxOPKTQ"
   },
   "outputs": [
    {
     "ename": "IndentationError",
     "evalue": "unexpected indent (3351224980.py, line 11)",
     "output_type": "error",
     "traceback": [
      "\u001b[0;36m  Cell \u001b[0;32mIn[7], line 11\u001b[0;36m\u001b[0m\n\u001b[0;31m    tc_mappings\u001b[0m\n\u001b[0m    ^\u001b[0m\n\u001b[0;31mIndentationError\u001b[0m\u001b[0;31m:\u001b[0m unexpected indent\n"
     ]
    }
   ],
   "source": [
    "#formatting tchmms_df\n",
    "tc_mappings = pd.DataFrame(columns = ['hmm_id', 'class_', 'subclass', 'family', 'subfamily', 'substrate'])\n",
    "for tc_id in tchmms_df.hmm_id:\n",
    "  str_list = tc_id.split(\".\")\n",
    "  class_ = str_list[0]\n",
    "  subclass = str_list[1]\n",
    "  family = str_list[2]\n",
    "  subfamily = '-'\n",
    "  substrate = '-'\n",
    "  tc_mappings.loc[len(tc_mappings.index)] = [tc_id, class_, subclass, family, subfamily, substrate]\n",
    "  tc_mappings"
   ]
  },
  {
   "cell_type": "code",
   "execution_count": null,
   "metadata": {
    "colab": {
     "base_uri": "https://localhost:8080/",
     "height": 423
    },
    "executionInfo": {
     "elapsed": 6,
     "status": "ok",
     "timestamp": 1699990383806,
     "user": {
      "displayName": "Dhruvi Joshi",
      "userId": "04041335592060474529"
     },
     "user_tz": 480
    },
    "id": "2e5beQrJO5hQ",
    "outputId": "512b2524-2d28-4f8a-ac77-9c4d73079f78"
   },
   "outputs": [],
   "source": []
  },
  {
   "cell_type": "code",
   "execution_count": null,
   "metadata": {
    "executionInfo": {
     "elapsed": 3063,
     "status": "ok",
     "timestamp": 1699990386865,
     "user": {
      "displayName": "Dhruvi Joshi",
      "userId": "04041335592060474529"
     },
     "user_tz": 480
    },
    "id": "64Exh7pMH0VI"
   },
   "outputs": [],
   "source": [
    "#group data by pfam hmm id\n",
    "groupby_tc2pf = tc2p_df.groupby('pfam_ID')\n",
    "#create df to store true/false ineger values for each field's uniqueness \n",
    "pfams_to_map_df = pd.DataFrame(columns = ['hmm_id', 'class_', 'subclass', 'family', 'subfamily', 'substrate'])\n",
    "#note family can actually be superfamiliy at times\n",
    "\n",
    "#for each pfam, see if each field is unique or not \n",
    "for P in   tc2p_df['pfam_ID'].unique():\n",
    "    a = np.array([])\n",
    "    b = np.array([])\n",
    "    c = np.array([])\n",
    "    d = np.array([])\n",
    "    e = np.array([])\n",
    "    for T in groupby_tc2pf.get_group(P).TC:\n",
    "      tc = T.split ('.')\n",
    "      #tc =  list ex: ['1', 'A', '1', '5', '11']\n",
    "      a = np.append(a, tc[0])\n",
    "      b = np.append(b, tc[1])\n",
    "      c = np.append(c, tc[2])\n",
    "      d = np.append(d, tc[3])\n",
    "      e = np.append(e, tc[4])\n",
    "    #if class has only 1 unique value\n",
    "    #then add to pfam + uniqueness of their fields to mapping df\n",
    "    # 1 = only 1 field value, 0 = multiple field values \n",
    "    if ((np.unique(a)).size == 1):\n",
    "      pfams_to_map_df.loc[len(pfams_to_map_df.index)] = [P, int((np.unique(a)).size == 1), int((np.unique(b)).size == 1),\n",
    "                                                         int((np.unique(c)).size == 1),int( (np.unique(d)).size == 1),\n",
    "                                                         int((np.unique(e)).size == 1) ]"
   ]
  },
  {
   "cell_type": "code",
   "execution_count": null,
   "metadata": {
    "executionInfo": {
     "elapsed": 11,
     "status": "ok",
     "timestamp": 1699990386866,
     "user": {
      "displayName": "Dhruvi Joshi",
      "userId": "04041335592060474529"
     },
     "user_tz": 480
    },
    "id": "k-W8nOllexbY"
   },
   "outputs": [],
   "source": [
    "pfams_to_map_df = pfams_to_map_df.reset_index(drop=True)"
   ]
  },
  {
   "cell_type": "code",
   "execution_count": null,
   "metadata": {
    "colab": {
     "base_uri": "https://localhost:8080/",
     "height": 423
    },
    "executionInfo": {
     "elapsed": 11,
     "status": "ok",
     "timestamp": 1699990386867,
     "user": {
      "displayName": "Dhruvi Joshi",
      "userId": "04041335592060474529"
     },
     "user_tz": 480
    },
    "id": "oqvhVOIpUNtl",
    "outputId": "a6c3a342-ad7d-4e65-fd6c-d3a0b89bdbbc"
   },
   "outputs": [],
   "source": [
    "pfams_to_map_df"
   ]
  },
  {
   "cell_type": "code",
   "execution_count": null,
   "metadata": {
    "executionInfo": {
     "elapsed": 5525,
     "status": "ok",
     "timestamp": 1699990392383,
     "user": {
      "displayName": "Dhruvi Joshi",
      "userId": "04041335592060474529"
     },
     "user_tz": 480
    },
    "id": "UdAEyqiNibZS"
   },
   "outputs": [],
   "source": [
    "\n",
    "\n",
    "#create final df to map true/false back to TC IDs\n",
    "final_mapping_df = pd.DataFrame(columns = ['hmm_id', 'class_', 'subclass', 'family', 'subfamily', 'substrate'])\n",
    "\n",
    "#for each pfam_id, map the unique values to their respective TC IDs\n",
    "for id in pfams_to_map_df.hmm_id:\n",
    "  idx = 0\n",
    "  #get first TC_ID corresponding to respective pfam_ID out of the groupby object \n",
    "  temp_str = groupby_tc2pf.get_group(id).iloc[0]['TC']\n",
    "  #split into fields \n",
    "  temp_list = temp_str.split(\".\")\n",
    "  class_ = '-'\n",
    "  subclass = '-'\n",
    "  family = '-'\n",
    "  subfamily = '-'\n",
    "  substrate = '-'\n",
    "  for l in ['class_', 'subclass', 'family', 'subfamily', 'substrate']:\n",
    "    #extracting the value of the  the specific field that corresponds to current l field \n",
    "    field = pfams_to_map_df.loc[pfams_to_map_df['hmm_id'] == id, l].iloc[0]\n",
    "    #if the cuurent field is unique, update the field with the respective TC ID value \n",
    "    if field == 1:\n",
    "      if l == \"class_\":\n",
    "        class_ = temp_list[0]\n",
    "      if l == \"subclass\":\n",
    "        subclass = temp_list[1]\n",
    "      if l == \"family\":\n",
    "        family = temp_list[2]\n",
    "      if l == \"subfamily\":\n",
    "        subfamily = temp_list[3]\n",
    "      if l == \"substrate\":\n",
    "        substrate = temp_list[4]\n",
    "      idx += 1\n",
    "    else:\n",
    "      break\n",
    "  final_mapping_df.loc[len(final_mapping_df.index)] = [id, class_ , subclass, family, subfamily, substrate]\n"
   ]
  },
  {
   "cell_type": "code",
   "execution_count": null,
   "metadata": {
    "colab": {
     "base_uri": "https://localhost:8080/",
     "height": 423
    },
    "executionInfo": {
     "elapsed": 30,
     "status": "ok",
     "timestamp": 1699990392383,
     "user": {
      "displayName": "Dhruvi Joshi",
      "userId": "04041335592060474529"
     },
     "user_tz": 480
    },
    "id": "zmr1oI5XTzx2",
    "outputId": "e2985b6e-8337-4378-aded-4a7b697dae54"
   },
   "outputs": [],
   "source": [
    "final_mapping_df"
   ]
  },
  {
   "cell_type": "code",
   "execution_count": null,
   "metadata": {
    "executionInfo": {
     "elapsed": 28,
     "status": "ok",
     "timestamp": 1699990392384,
     "user": {
      "displayName": "Dhruvi Joshi",
      "userId": "04041335592060474529"
     },
     "user_tz": 480
    },
    "id": "ulf3XQQXibcI"
   },
   "outputs": [],
   "source": [
    "#add in TC hmm_ID to TC ID mappings \n",
    "final_mapping_df = pd.concat([final_mapping_df, tc_mappings])"
   ]
  },
  {
   "cell_type": "code",
   "execution_count": null,
   "metadata": {
    "colab": {
     "base_uri": "https://localhost:8080/",
     "height": 423
    },
    "executionInfo": {
     "elapsed": 28,
     "status": "ok",
     "timestamp": 1699990392384,
     "user": {
      "displayName": "Dhruvi Joshi",
      "userId": "04041335592060474529"
     },
     "user_tz": 480
    },
    "id": "8WYE_gQnSQiq",
    "outputId": "204c9cdc-1014-4b2b-d77f-e11cb40296a5"
   },
   "outputs": [],
   "source": [
    "final_mapping_df = final_mapping_df.reset_index(drop =True)\n",
    "final_mapping_df"
   ]
  },
  {
   "cell_type": "code",
   "execution_count": null,
   "metadata": {
    "executionInfo": {
     "elapsed": 27,
     "status": "ok",
     "timestamp": 1699990392384,
     "user": {
      "displayName": "Dhruvi Joshi",
      "userId": "04041335592060474529"
     },
     "user_tz": 480
    },
    "id": "Es2wXZGmRsLA"
   },
   "outputs": [],
   "source": [
    "final_mapping_df.to_csv('../data/custom_mapping.csv', index=False)"
   ]
  },
  {
   "cell_type": "code",
   "execution_count": null,
   "metadata": {},
   "outputs": [],
   "source": []
  }
 ],
 "metadata": {
  "colab": {
   "authorship_tag": "ABX9TyPYwqHezaTZY9qBlU9umEfX",
   "provenance": []
  },
  "kernelspec": {
   "display_name": "Python 3 (ipykernel)",
   "language": "python",
   "name": "python3"
  },
  "language_info": {
   "codemirror_mode": {
    "name": "ipython",
    "version": 3
   },
   "file_extension": ".py",
   "mimetype": "text/x-python",
   "name": "python",
   "nbconvert_exporter": "python",
   "pygments_lexer": "ipython3",
   "version": "3.10.6"
  }
 },
 "nbformat": 4,
 "nbformat_minor": 4
}
