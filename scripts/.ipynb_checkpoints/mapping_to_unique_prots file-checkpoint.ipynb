{
 "cells": [
  {
   "cell_type": "code",
   "execution_count": 6,
   "metadata": {
    "colab": {
     "base_uri": "https://localhost:8080/"
    },
    "executionInfo": {
     "elapsed": 1216,
     "status": "ok",
     "timestamp": 1699993898562,
     "user": {
      "displayName": "Dhruvi Joshi",
      "userId": "04041335592060474529"
     },
     "user_tz": 480
    },
    "id": "nHl-UORWVgrb",
    "outputId": "54bd5838-1f7d-4262-ff20-cf9d58b85c3e"
   },
   "outputs": [],
   "source": [
    "import pandas as pd\n",
    "import numpy as np\n",
    "import matplotlib.pyplot as plt\n",
    "import seaborn as sns"
   ]
  },
  {
   "cell_type": "code",
   "execution_count": 7,
   "metadata": {
    "colab": {
     "base_uri": "https://localhost:8080/",
     "height": 423
    },
    "executionInfo": {
     "elapsed": 9,
     "status": "ok",
     "timestamp": 1699993898563,
     "user": {
      "displayName": "Dhruvi Joshi",
      "userId": "04041335592060474529"
     },
     "user_tz": 480
    },
    "id": "5VZTeG13X6oR",
    "outputId": "b446db53-38e0-4f5a-c0be-8fb84d5f6404"
   },
   "outputs": [
    {
     "data": {
      "text/html": [
       "<div>\n",
       "<style scoped>\n",
       "    .dataframe tbody tr th:only-of-type {\n",
       "        vertical-align: middle;\n",
       "    }\n",
       "\n",
       "    .dataframe tbody tr th {\n",
       "        vertical-align: top;\n",
       "    }\n",
       "\n",
       "    .dataframe thead th {\n",
       "        text-align: right;\n",
       "    }\n",
       "</style>\n",
       "<table border=\"1\" class=\"dataframe\">\n",
       "  <thead>\n",
       "    <tr style=\"text-align: right;\">\n",
       "      <th></th>\n",
       "      <th>hmm_id</th>\n",
       "      <th>prot_count</th>\n",
       "    </tr>\n",
       "  </thead>\n",
       "  <tbody>\n",
       "    <tr>\n",
       "      <th>0</th>\n",
       "      <td>PF00036</td>\n",
       "      <td>1560394</td>\n",
       "    </tr>\n",
       "    <tr>\n",
       "      <th>1</th>\n",
       "      <td>PF00069</td>\n",
       "      <td>1490977</td>\n",
       "    </tr>\n",
       "    <tr>\n",
       "      <th>2</th>\n",
       "      <td>PF00112</td>\n",
       "      <td>833973</td>\n",
       "    </tr>\n",
       "    <tr>\n",
       "      <th>3</th>\n",
       "      <td>PF00520</td>\n",
       "      <td>694921</td>\n",
       "    </tr>\n",
       "    <tr>\n",
       "      <th>4</th>\n",
       "      <td>PF00076</td>\n",
       "      <td>591664</td>\n",
       "    </tr>\n",
       "    <tr>\n",
       "      <th>...</th>\n",
       "      <td>...</td>\n",
       "      <td>...</td>\n",
       "    </tr>\n",
       "    <tr>\n",
       "      <th>1699</th>\n",
       "      <td>PF07835</td>\n",
       "      <td>3</td>\n",
       "    </tr>\n",
       "    <tr>\n",
       "      <th>1700</th>\n",
       "      <td>PF07229</td>\n",
       "      <td>2</td>\n",
       "    </tr>\n",
       "    <tr>\n",
       "      <th>1701</th>\n",
       "      <td>PF02264</td>\n",
       "      <td>2</td>\n",
       "    </tr>\n",
       "    <tr>\n",
       "      <th>1702</th>\n",
       "      <td>PF07585</td>\n",
       "      <td>2</td>\n",
       "    </tr>\n",
       "    <tr>\n",
       "      <th>1703</th>\n",
       "      <td>PF05538</td>\n",
       "      <td>1</td>\n",
       "    </tr>\n",
       "  </tbody>\n",
       "</table>\n",
       "<p>1704 rows × 2 columns</p>\n",
       "</div>"
      ],
      "text/plain": [
       "       hmm_id  prot_count\n",
       "0     PF00036     1560394\n",
       "1     PF00069     1490977\n",
       "2     PF00112      833973\n",
       "3     PF00520      694921\n",
       "4     PF00076      591664\n",
       "...       ...         ...\n",
       "1699  PF07835           3\n",
       "1700  PF07229           2\n",
       "1701  PF02264           2\n",
       "1702  PF07585           2\n",
       "1703  PF05538           1\n",
       "\n",
       "[1704 rows x 2 columns]"
      ]
     },
     "execution_count": 7,
     "metadata": {},
     "output_type": "execute_result"
    }
   ],
   "source": [
    "#load in proteins \n",
    "hmm_prots_df = pd.read_csv('../data/hmm_exploration.csv',\n",
    "                           engine = 'python',\n",
    "                           skiprows = [0],\n",
    "                           usecols= [0, 1],\n",
    "                           names = ['hmm_id', 'prot_count']\n",
    ")\n",
    "hmm_prots_df"
   ]
  },
  {
   "cell_type": "code",
   "execution_count": 8,
   "metadata": {
    "colab": {
     "base_uri": "https://localhost:8080/",
     "height": 423
    },
    "executionInfo": {
     "elapsed": 7,
     "status": "ok",
     "timestamp": 1699993898563,
     "user": {
      "displayName": "Dhruvi Joshi",
      "userId": "04041335592060474529"
     },
     "user_tz": 480
    },
    "id": "sAcCBXrsgHl2",
    "outputId": "2f85776d-25b6-4151-ca78-79e90b1114df"
   },
   "outputs": [
    {
     "data": {
      "text/html": [
       "<div>\n",
       "<style scoped>\n",
       "    .dataframe tbody tr th:only-of-type {\n",
       "        vertical-align: middle;\n",
       "    }\n",
       "\n",
       "    .dataframe tbody tr th {\n",
       "        vertical-align: top;\n",
       "    }\n",
       "\n",
       "    .dataframe thead th {\n",
       "        text-align: right;\n",
       "    }\n",
       "</style>\n",
       "<table border=\"1\" class=\"dataframe\">\n",
       "  <thead>\n",
       "    <tr style=\"text-align: right;\">\n",
       "      <th></th>\n",
       "      <th>hmm_id</th>\n",
       "      <th>class_</th>\n",
       "      <th>subclass</th>\n",
       "      <th>family</th>\n",
       "      <th>subfamily</th>\n",
       "      <th>substrate</th>\n",
       "    </tr>\n",
       "  </thead>\n",
       "  <tbody>\n",
       "    <tr>\n",
       "      <th>0</th>\n",
       "      <td>PF03493</td>\n",
       "      <td>1</td>\n",
       "      <td>A</td>\n",
       "      <td>1</td>\n",
       "      <td>3</td>\n",
       "      <td>-</td>\n",
       "    </tr>\n",
       "    <tr>\n",
       "      <th>1</th>\n",
       "      <td>PF11834</td>\n",
       "      <td>1</td>\n",
       "      <td>A</td>\n",
       "      <td>1</td>\n",
       "      <td>4</td>\n",
       "      <td>-</td>\n",
       "    </tr>\n",
       "    <tr>\n",
       "      <th>2</th>\n",
       "      <td>PF08412</td>\n",
       "      <td>1</td>\n",
       "      <td>A</td>\n",
       "      <td>1</td>\n",
       "      <td>5</td>\n",
       "      <td>-</td>\n",
       "    </tr>\n",
       "    <tr>\n",
       "      <th>3</th>\n",
       "      <td>PF08763</td>\n",
       "      <td>1</td>\n",
       "      <td>A</td>\n",
       "      <td>1</td>\n",
       "      <td>11</td>\n",
       "      <td>-</td>\n",
       "    </tr>\n",
       "    <tr>\n",
       "      <th>4</th>\n",
       "      <td>PF00060</td>\n",
       "      <td>1</td>\n",
       "      <td>A</td>\n",
       "      <td>10</td>\n",
       "      <td>-</td>\n",
       "      <td>-</td>\n",
       "    </tr>\n",
       "    <tr>\n",
       "      <th>...</th>\n",
       "      <td>...</td>\n",
       "      <td>...</td>\n",
       "      <td>...</td>\n",
       "      <td>...</td>\n",
       "      <td>...</td>\n",
       "      <td>...</td>\n",
       "    </tr>\n",
       "    <tr>\n",
       "      <th>1588</th>\n",
       "      <td>9.B.330.TD000001.0</td>\n",
       "      <td>9</td>\n",
       "      <td>B</td>\n",
       "      <td>330</td>\n",
       "      <td>-</td>\n",
       "      <td>-</td>\n",
       "    </tr>\n",
       "    <tr>\n",
       "      <th>1589</th>\n",
       "      <td>9.B.353.TD000001.0</td>\n",
       "      <td>9</td>\n",
       "      <td>B</td>\n",
       "      <td>353</td>\n",
       "      <td>-</td>\n",
       "      <td>-</td>\n",
       "    </tr>\n",
       "    <tr>\n",
       "      <th>1590</th>\n",
       "      <td>9.B.358.TD000001.0</td>\n",
       "      <td>9</td>\n",
       "      <td>B</td>\n",
       "      <td>358</td>\n",
       "      <td>-</td>\n",
       "      <td>-</td>\n",
       "    </tr>\n",
       "    <tr>\n",
       "      <th>1591</th>\n",
       "      <td>9.B.358.TD000002.0</td>\n",
       "      <td>9</td>\n",
       "      <td>B</td>\n",
       "      <td>358</td>\n",
       "      <td>-</td>\n",
       "      <td>-</td>\n",
       "    </tr>\n",
       "    <tr>\n",
       "      <th>1592</th>\n",
       "      <td>9.B.371.TD000001.0</td>\n",
       "      <td>9</td>\n",
       "      <td>B</td>\n",
       "      <td>371</td>\n",
       "      <td>-</td>\n",
       "      <td>-</td>\n",
       "    </tr>\n",
       "  </tbody>\n",
       "</table>\n",
       "<p>1593 rows × 6 columns</p>\n",
       "</div>"
      ],
      "text/plain": [
       "                  hmm_id  class_ subclass family subfamily substrate\n",
       "0                PF03493       1        A      1         3         -\n",
       "1                PF11834       1        A      1         4         -\n",
       "2                PF08412       1        A      1         5         -\n",
       "3                PF08763       1        A      1        11         -\n",
       "4                PF00060       1        A     10         -         -\n",
       "...                  ...     ...      ...    ...       ...       ...\n",
       "1588  9.B.330.TD000001.0       9        B    330         -         -\n",
       "1589  9.B.353.TD000001.0       9        B    353         -         -\n",
       "1590  9.B.358.TD000001.0       9        B    358         -         -\n",
       "1591  9.B.358.TD000002.0       9        B    358         -         -\n",
       "1592  9.B.371.TD000001.0       9        B    371         -         -\n",
       "\n",
       "[1593 rows x 6 columns]"
      ]
     },
     "execution_count": 8,
     "metadata": {},
     "output_type": "execute_result"
    }
   ],
   "source": [
    "mapping_df = pd.read_csv('../data/custom_mapping.csv',\n",
    "                         engine = 'python',\n",
    "                         skiprows = [0],\n",
    "                         usecols= [0, 1, 2, 3, 4, 5],\n",
    "                         names = ['hmm_id', 'class_', 'subclass', 'family', 'subfamily', 'substrate']\n",
    ")\n",
    "mapping_df"
   ]
  },
  {
   "cell_type": "code",
   "execution_count": 9,
   "metadata": {
    "executionInfo": {
     "elapsed": 6,
     "status": "ok",
     "timestamp": 1699993898563,
     "user": {
      "displayName": "Dhruvi Joshi",
      "userId": "04041335592060474529"
     },
     "user_tz": 480
    },
    "id": "Lw8Jat2LhHFb"
   },
   "outputs": [],
   "source": [
    "mapped_counts = hmm_prots_df.merge(mapping_df, on = 'hmm_id')"
   ]
  },
  {
   "cell_type": "code",
   "execution_count": 10,
   "metadata": {
    "executionInfo": {
     "elapsed": 226,
     "status": "ok",
     "timestamp": 1699993943362,
     "user": {
      "displayName": "Dhruvi Joshi",
      "userId": "04041335592060474529"
     },
     "user_tz": 480
    },
    "id": "PqklCH9chqWs"
   },
   "outputs": [],
   "source": [
    "mapped_counts.to_csv('../data/mapped_prot_counts.csv', index = False)"
   ]
  }
 ],
 "metadata": {
  "colab": {
   "authorship_tag": "ABX9TyOlrqobL/XSLS+fltg60iKo",
   "provenance": []
  },
  "kernelspec": {
   "display_name": "Python 3 (ipykernel)",
   "language": "python",
   "name": "python3"
  },
  "language_info": {
   "codemirror_mode": {
    "name": "ipython",
    "version": 3
   },
   "file_extension": ".py",
   "mimetype": "text/x-python",
   "name": "python",
   "nbconvert_exporter": "python",
   "pygments_lexer": "ipython3",
   "version": "3.10.6"
  }
 },
 "nbformat": 4,
 "nbformat_minor": 4
}
